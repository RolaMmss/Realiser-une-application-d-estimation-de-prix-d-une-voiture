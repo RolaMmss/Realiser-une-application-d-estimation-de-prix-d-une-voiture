{
 "cells": [
  {
   "cell_type": "code",
   "execution_count": 53,
   "metadata": {},
   "outputs": [],
   "source": [
    "import numpy as np\n",
    "import pandas as pd\n",
    "from ydata_profiling import ProfileReport"
   ]
  },
  {
   "cell_type": "code",
   "execution_count": 54,
   "metadata": {},
   "outputs": [],
   "source": [
    "df = pd.read_csv(\"carprice_original.csv\")\n",
    "profile = ProfileReport(df, title=\"Profiling Report\")"
   ]
  },
  {
   "cell_type": "code",
   "execution_count": 55,
   "metadata": {},
   "outputs": [],
   "source": [
    "# profile.to_notebook_iframe()"
   ]
  },
  {
   "cell_type": "code",
   "execution_count": 56,
   "metadata": {},
   "outputs": [],
   "source": [
    "# profile.to_html()"
   ]
  },
  {
   "cell_type": "code",
   "execution_count": 57,
   "metadata": {},
   "outputs": [
    {
     "data": {
      "application/vnd.jupyter.widget-view+json": {
       "model_id": "db45b44213e6428293f6db6b82fae1b8",
       "version_major": 2,
       "version_minor": 0
      },
      "text/plain": [
       "Summarize dataset:   0%|          | 0/5 [00:00<?, ?it/s]"
      ]
     },
     "metadata": {},
     "output_type": "display_data"
    },
    {
     "data": {
      "application/vnd.jupyter.widget-view+json": {
       "model_id": "acd90bf1e82f43408a699d15c36d64e4",
       "version_major": 2,
       "version_minor": 0
      },
      "text/plain": [
       "Generate report structure:   0%|          | 0/1 [00:00<?, ?it/s]"
      ]
     },
     "metadata": {},
     "output_type": "display_data"
    },
    {
     "data": {
      "application/vnd.jupyter.widget-view+json": {
       "model_id": "2e5a7481814744e5b6b0a1445fb08db5",
       "version_major": 2,
       "version_minor": 0
      },
      "text/plain": [
       "Render HTML:   0%|          | 0/1 [00:00<?, ?it/s]"
      ]
     },
     "metadata": {},
     "output_type": "display_data"
    },
    {
     "data": {
      "application/vnd.jupyter.widget-view+json": {
       "model_id": "963a9533886e4704ac00c639ec1e2213",
       "version_major": 2,
       "version_minor": 0
      },
      "text/plain": [
       "Export report to file:   0%|          | 0/1 [00:00<?, ?it/s]"
      ]
     },
     "metadata": {},
     "output_type": "display_data"
    }
   ],
   "source": [
    "profile.to_file('prix_voiture_report.html')"
   ]
  },
  {
   "cell_type": "code",
   "execution_count": 58,
   "metadata": {},
   "outputs": [],
   "source": [
    "# profile.to_widgets()"
   ]
  },
  {
   "cell_type": "code",
   "execution_count": 59,
   "metadata": {},
   "outputs": [
    {
     "name": "stdout",
     "output_type": "stream",
     "text": [
      "   car_ID  symboling                   CarName fueltype aspiration doornumber  \\\n",
      "0       1          3        alfa-romero giulia      gas        std        two   \n",
      "1       2          3       alfa-romero stelvio      gas        std        two   \n",
      "2       3          1  alfa-romero Quadrifoglio      gas        std        two   \n",
      "3       4          2               audi 100 ls      gas        std       four   \n",
      "4       5          2                audi 100ls      gas        std       four   \n",
      "\n",
      "       carbody drivewheel enginelocation  wheelbase  carlength  carwidth  \\\n",
      "0  convertible        rwd          front       88.6      168.8      64.1   \n",
      "1  convertible        rwd          front       88.6      168.8      64.1   \n",
      "2    hatchback        rwd          front       94.5      171.2      65.5   \n",
      "3        sedan        fwd          front       99.8      176.6      66.2   \n",
      "4        sedan        4wd          front       99.4      176.6      66.4   \n",
      "\n",
      "   carheight  curbweight enginetype cylindernumber  enginesize fuelsystem  \\\n",
      "0       48.8        2548       dohc           four         130       mpfi   \n",
      "1       48.8        2548       dohc           four         130       mpfi   \n",
      "2       52.4        2823       ohcv            six         152       mpfi   \n",
      "3       54.3        2337        ohc           four         109       mpfi   \n",
      "4       54.3        2824        ohc           five         136       mpfi   \n",
      "\n",
      "   boreratio  stroke  compressionratio  horsepower  peakrpm  citympg  \\\n",
      "0       3.47    2.68               9.0         111     5000       21   \n",
      "1       3.47    2.68               9.0         111     5000       21   \n",
      "2       2.68    3.47               9.0         154     5000       19   \n",
      "3       3.19    3.40              10.0         102     5500       24   \n",
      "4       3.19    3.40               8.0         115     5500       18   \n",
      "\n",
      "   highwaympg    price  \n",
      "0          27  13495.0  \n",
      "1          27  16500.0  \n",
      "2          26  16500.0  \n",
      "3          30  13950.0  \n",
      "4          22  17450.0  \n"
     ]
    }
   ],
   "source": [
    "\n",
    "# Load CSV file into a DataFrame\n",
    "df = pd.read_csv('carprice_original.csv')\n",
    "# set the maximum number of columns to be displayed to None\n",
    "pd.set_option(\"display.max_columns\", None)\n",
    "\n",
    "# Display the first 5 rows of the Data\n",
    "print(df.head(5))"
   ]
  },
  {
   "cell_type": "code",
   "execution_count": 60,
   "metadata": {},
   "outputs": [
    {
     "name": "stdout",
     "output_type": "stream",
     "text": [
      "<class 'pandas.core.frame.DataFrame'>\n",
      "RangeIndex: 205 entries, 0 to 204\n",
      "Data columns (total 26 columns):\n",
      " #   Column            Non-Null Count  Dtype  \n",
      "---  ------            --------------  -----  \n",
      " 0   car_ID            205 non-null    int64  \n",
      " 1   symboling         205 non-null    int64  \n",
      " 2   CarName           205 non-null    object \n",
      " 3   fueltype          205 non-null    object \n",
      " 4   aspiration        205 non-null    object \n",
      " 5   doornumber        205 non-null    object \n",
      " 6   carbody           205 non-null    object \n",
      " 7   drivewheel        205 non-null    object \n",
      " 8   enginelocation    205 non-null    object \n",
      " 9   wheelbase         205 non-null    float64\n",
      " 10  carlength         205 non-null    float64\n",
      " 11  carwidth          205 non-null    float64\n",
      " 12  carheight         205 non-null    float64\n",
      " 13  curbweight        205 non-null    int64  \n",
      " 14  enginetype        205 non-null    object \n",
      " 15  cylindernumber    205 non-null    object \n",
      " 16  enginesize        205 non-null    int64  \n",
      " 17  fuelsystem        205 non-null    object \n",
      " 18  boreratio         205 non-null    float64\n",
      " 19  stroke            205 non-null    float64\n",
      " 20  compressionratio  205 non-null    float64\n",
      " 21  horsepower        205 non-null    int64  \n",
      " 22  peakrpm           205 non-null    int64  \n",
      " 23  citympg           205 non-null    int64  \n",
      " 24  highwaympg        205 non-null    int64  \n",
      " 25  price             205 non-null    float64\n",
      "dtypes: float64(8), int64(8), object(10)\n",
      "memory usage: 41.8+ KB\n"
     ]
    }
   ],
   "source": [
    "df.info()"
   ]
  },
  {
   "cell_type": "code",
   "execution_count": 61,
   "metadata": {},
   "outputs": [
    {
     "name": "stderr",
     "output_type": "stream",
     "text": [
      "/tmp/ipykernel_84894/3617452879.py:2: FutureWarning: In a future version of pandas all arguments of StringMethods.split except for the argument 'pat' will be keyword-only.\n",
      "  df[['marque', 'modèle']] = df['CarName'].str.split(' ', 1, expand=True)\n"
     ]
    }
   ],
   "source": [
    "# Pour séparer la colonne nommée \"symboling\" en deux colonnes distinctes nommées \"marque\" et \"modèle\n",
    "df[['marque', 'modèle']] = df['CarName'].str.split(' ', 1, expand=True)\n",
    "\n",
    "df.drop('CarName', axis=1, inplace=True)\n",
    "\n",
    "df.to_csv('prix_voiture.csv', index=False)"
   ]
  },
  {
   "attachments": {},
   "cell_type": "markdown",
   "metadata": {},
   "source": [
    "#### Pour nettoyer et modifier votre fichier CSV pour qu'il soit conforme aux normes françaises:"
   ]
  },
  {
   "cell_type": "code",
   "execution_count": 62,
   "metadata": {},
   "outputs": [
    {
     "name": "stdout",
     "output_type": "stream",
     "text": [
      "<class 'pandas.core.frame.DataFrame'>\n",
      "RangeIndex: 205 entries, 0 to 204\n",
      "Data columns (total 27 columns):\n",
      " #   Column            Non-Null Count  Dtype  \n",
      "---  ------            --------------  -----  \n",
      " 0   car_ID            205 non-null    int64  \n",
      " 1   symboling         205 non-null    int64  \n",
      " 2   fueltype          205 non-null    object \n",
      " 3   aspiration        205 non-null    object \n",
      " 4   doornumber        205 non-null    object \n",
      " 5   carbody           205 non-null    object \n",
      " 6   drivewheel        205 non-null    object \n",
      " 7   enginelocation    205 non-null    object \n",
      " 8   wheelbase         205 non-null    float64\n",
      " 9   carlength         205 non-null    float64\n",
      " 10  carwidth          205 non-null    float64\n",
      " 11  carheight         205 non-null    float64\n",
      " 12  curbweight        205 non-null    int64  \n",
      " 13  enginetype        205 non-null    object \n",
      " 14  cylindernumber    205 non-null    object \n",
      " 15  enginesize        205 non-null    int64  \n",
      " 16  fuelsystem        205 non-null    object \n",
      " 17  boreratio         205 non-null    float64\n",
      " 18  stroke            205 non-null    float64\n",
      " 19  compressionratio  205 non-null    float64\n",
      " 20  horsepower        205 non-null    int64  \n",
      " 21  peakrpm           205 non-null    int64  \n",
      " 22  citympg           205 non-null    int64  \n",
      " 23  highwaympg        205 non-null    int64  \n",
      " 24  price             205 non-null    float64\n",
      " 25  marque            205 non-null    object \n",
      " 26  modèle            203 non-null    object \n",
      "dtypes: float64(8), int64(8), object(11)\n",
      "memory usage: 43.4+ KB\n"
     ]
    }
   ],
   "source": [
    "df.info()"
   ]
  },
  {
   "cell_type": "code",
   "execution_count": 63,
   "metadata": {},
   "outputs": [],
   "source": [
    "\n",
    "# Modifier les valeurs de la colonne \"fueltype\"\n",
    "df[\"fueltype\"] = df[\"fueltype\"].replace({\"gas\": \"essence\", \"diesel\": \"diesel\"})\n",
    "\n",
    "# Modifier les valeurs de la colonne \"aspiration\"\n",
    "df[\"aspiration\"] = df[\"aspiration\"].replace({\"std\": \"atmosphérique\", \"turbo\": \"turbo\"})\n",
    "\n",
    "# Modifier les valeurs de la colonne \"doornumber\"\n",
    "df[\"doornumber\"] = df[\"doornumber\"].replace({\"two\": \"deux\", \"four\": \"quatre\"})\n",
    "\n",
    "# Modifier les valeurs de la colonne \"carbody\"\n",
    "df[\"carbody\"] = df[\"carbody\"].replace({\"hatchback\": \"berline compacte\", \"sedan\": \"berline\", \"wagon\": \"break\"})\n",
    "\n",
    "# Modifier les valeurs de la colonne \"drivewheel\"\n",
    "df[\"drivewheel\"] = df[\"drivewheel\"].replace({\"rwd\": \"propulsion\", \"fwd\": \"traction\", \"4wd\": \"quatre roues motrices\"})\n",
    "\n",
    "# Modifier les valeurs de la colonne \"enginelocation\"\n",
    "df[\"enginelocation\"] = df[\"enginelocation\"].replace({\"front\": \"avant\", \"rear\": \"arrière\"})\n",
    "\n",
    "# Renommer les colonnes \"carlength\", \"carwidth\" et \"carheight\"\n",
    "df = df.rename(columns={\"carlength\": \"longueur\", \"carwidth\": \"largeur\", \"carheight\": \"hauteur\"})\n",
    "#######################################################\n",
    "\n",
    "df = df.rename(columns={'car_ID': 'identifiant', 'symboling': 'etat_de_route', 'fueltype': 'carburant', 'aspiration': 'turbo', 'doornumber': 'nombre_portes', 'carbody': 'type_vehicule', 'drivewheel': 'roues_motrices', 'enginelocation': 'emplacement_moteur', 'wheelbase': 'empattement', 'carlength': 'longueur_voiture', 'carwidth': 'largeur_voiture', 'carheight': 'hauteur_voiture', 'curbweight': 'poids_vehicule', 'enginetype': 'type_moteur', 'cylindernumber': 'nombre_cylindres', 'enginesize': 'taille_moteur', 'fuelsystem': 'systeme_carburant', 'boreratio': 'taux_alésage', 'stroke': 'course', 'compressionratio': 'taux_compression', 'horsepower': 'chevaux', 'peakrpm': 'tour_moteur', 'citympg': 'consommation_ville', 'highwaympg': 'consommation_autoroute', 'price': 'prix'})\n",
    "\n",
    "df.to_csv('prix_voiture.csv', index=False)\n"
   ]
  },
  {
   "attachments": {},
   "cell_type": "markdown",
   "metadata": {},
   "source": [
    "#### Il y a 2 valeurs null dans la colonne \"modèle\". On supprime ces deux lignes."
   ]
  },
  {
   "cell_type": "code",
   "execution_count": 64,
   "metadata": {},
   "outputs": [
    {
     "name": "stdout",
     "output_type": "stream",
     "text": [
      "<class 'pandas.core.frame.DataFrame'>\n",
      "Int64Index: 203 entries, 0 to 204\n",
      "Data columns (total 27 columns):\n",
      " #   Column                  Non-Null Count  Dtype  \n",
      "---  ------                  --------------  -----  \n",
      " 0   identifiant             203 non-null    int64  \n",
      " 1   etat_de_route           203 non-null    int64  \n",
      " 2   carburant               203 non-null    object \n",
      " 3   turbo                   203 non-null    object \n",
      " 4   nombre_portes           203 non-null    object \n",
      " 5   type_vehicule           203 non-null    object \n",
      " 6   roues_motrices          203 non-null    object \n",
      " 7   emplacement_moteur      203 non-null    object \n",
      " 8   empattement             203 non-null    float64\n",
      " 9   longueur                203 non-null    float64\n",
      " 10  largeur                 203 non-null    float64\n",
      " 11  hauteur                 203 non-null    float64\n",
      " 12  poids_vehicule          203 non-null    int64  \n",
      " 13  type_moteur             203 non-null    object \n",
      " 14  nombre_cylindres        203 non-null    object \n",
      " 15  taille_moteur           203 non-null    int64  \n",
      " 16  systeme_carburant       203 non-null    object \n",
      " 17  taux_alésage            203 non-null    float64\n",
      " 18  course                  203 non-null    float64\n",
      " 19  taux_compression        203 non-null    float64\n",
      " 20  chevaux                 203 non-null    int64  \n",
      " 21  tour_moteur             203 non-null    int64  \n",
      " 22  consommation_ville      203 non-null    int64  \n",
      " 23  consommation_autoroute  203 non-null    int64  \n",
      " 24  prix                    203 non-null    float64\n",
      " 25  marque                  203 non-null    object \n",
      " 26  modèle                  203 non-null    object \n",
      "dtypes: float64(8), int64(8), object(11)\n",
      "memory usage: 44.4+ KB\n"
     ]
    }
   ],
   "source": [
    "df = df.dropna()\n",
    "\n",
    "# display the resulting DataFrame\n",
    "df.info()"
   ]
  },
  {
   "cell_type": "code",
   "execution_count": 65,
   "metadata": {},
   "outputs": [
    {
     "data": {
      "application/vnd.jupyter.widget-view+json": {
       "model_id": "9dd4592fc36b45de865add95e35ddeb9",
       "version_major": 2,
       "version_minor": 0
      },
      "text/plain": [
       "Summarize dataset:   0%|          | 0/5 [00:00<?, ?it/s]"
      ]
     },
     "metadata": {},
     "output_type": "display_data"
    },
    {
     "data": {
      "application/vnd.jupyter.widget-view+json": {
       "model_id": "7d024f299bf24c74b3b6b48028cbbe37",
       "version_major": 2,
       "version_minor": 0
      },
      "text/plain": [
       "Generate report structure:   0%|          | 0/1 [00:00<?, ?it/s]"
      ]
     },
     "metadata": {},
     "output_type": "display_data"
    },
    {
     "data": {
      "application/vnd.jupyter.widget-view+json": {
       "model_id": "c5d0995057804a7d93e0d29f7ec165ed",
       "version_major": 2,
       "version_minor": 0
      },
      "text/plain": [
       "Render HTML:   0%|          | 0/1 [00:00<?, ?it/s]"
      ]
     },
     "metadata": {},
     "output_type": "display_data"
    },
    {
     "data": {
      "application/vnd.jupyter.widget-view+json": {
       "model_id": "d6b18dcc336d4b8ba5dbca679de8fb30",
       "version_major": 2,
       "version_minor": 0
      },
      "text/plain": [
       "Export report to file:   0%|          | 0/1 [00:00<?, ?it/s]"
      ]
     },
     "metadata": {},
     "output_type": "display_data"
    }
   ],
   "source": [
    "df = pd.read_csv(\"prix_voiture.csv\")\n",
    "profile = ProfileReport(df, title=\"Profiling Report\")\n",
    "profile.to_file('prix_voiture_report.html')"
   ]
  },
  {
   "cell_type": "code",
   "execution_count": 66,
   "metadata": {},
   "outputs": [
    {
     "data": {
      "text/plain": [
       "Index(['identifiant', 'etat_de_route', 'empattement', 'longueur', 'largeur',\n",
       "       'hauteur', 'poids_vehicule', 'taille_moteur', 'taux_alésage', 'course',\n",
       "       'taux_compression', 'chevaux', 'tour_moteur', 'consommation_ville',\n",
       "       'consommation_autoroute', 'prix'],\n",
       "      dtype='object')"
      ]
     },
     "execution_count": 66,
     "metadata": {},
     "output_type": "execute_result"
    }
   ],
   "source": [
    "# Select only the numeric columns\n",
    "numeric_cols = df.select_dtypes(include=['int', 'float']).columns\n",
    "numeric_cols"
   ]
  },
  {
   "cell_type": "code",
   "execution_count": 68,
   "metadata": {},
   "outputs": [
    {
     "name": "stdout",
     "output_type": "stream",
     "text": [
      "   identifiant  etat_de_route carburant          turbo nombre_portes  \\\n",
      "0            1              3   essence  atmosphérique          deux   \n",
      "1            2              3   essence  atmosphérique          deux   \n",
      "2            3              1   essence  atmosphérique          deux   \n",
      "3            4              2   essence  atmosphérique        quatre   \n",
      "4            5              2   essence  atmosphérique        quatre   \n",
      "\n",
      "      type_vehicule         roues_motrices emplacement_moteur  empattement  \\\n",
      "0       convertible             propulsion              avant     0.057161   \n",
      "1       convertible             propulsion              avant     0.057161   \n",
      "2  berline compacte             propulsion              avant     0.060968   \n",
      "3           berline               traction              avant     0.064387   \n",
      "4           berline  quatre roues motrices              avant     0.064129   \n",
      "\n",
      "   longueur   largeur   hauteur  poids_vehicule type_moteur nombre_cylindres  \\\n",
      "0  0.108903  0.041355  0.031484      524.240050        dohc             four   \n",
      "1  0.108903  0.041355  0.031484      524.240050        dohc             four   \n",
      "2  0.110451  0.042258  0.033806      580.820118        ohcv              six   \n",
      "3  0.113935  0.042710  0.035032      480.827707         ohc             four   \n",
      "4  0.113935  0.042839  0.035032      581.025864         ohc             five   \n",
      "\n",
      "   taille_moteur systeme_carburant  taux_alésage     course  taux_compression  \\\n",
      "0       0.034910              mpfi     2238.7052  1729.0288               9.0   \n",
      "1       0.034910              mpfi     2238.7052  1729.0288               9.0   \n",
      "2       0.040818              mpfi     1729.0288  2238.7052               9.0   \n",
      "3       0.029271              mpfi     2058.0604  2193.5440              10.0   \n",
      "4       0.036521              mpfi     2058.0604  2193.5440               8.0   \n",
      "\n",
      "   chevaux  tour_moteur  consommation_ville  consommation_autoroute     prix  \\\n",
      "0      111         5000                21.0                    27.0  13495.0   \n",
      "1      111         5000                21.0                    27.0  16500.0   \n",
      "2      154         5000                19.0                    26.0  16500.0   \n",
      "3      102         5500                24.0                    30.0  13950.0   \n",
      "4      115         5500                18.0                    22.0  17450.0   \n",
      "\n",
      "        marque        modèle  \n",
      "0  alfa-romero        giulia  \n",
      "1  alfa-romero       stelvio  \n",
      "2  alfa-romero  Quadrifoglio  \n",
      "3         audi        100 ls  \n",
      "4         audi         100ls  \n"
     ]
    }
   ],
   "source": [
    "# Conversion des unités américaines en unités françaises\n",
    "df['empattement'] = df['empattement'] * 0.0254\n",
    "df['longueur'] = df['longueur'] * 0.0254\n",
    "df['largeur'] = df['largeur'] * 0.0254\n",
    "df['hauteur'] = df['hauteur'] * 0.0254\n",
    "df['poids_vehicule'] = df['poids_vehicule'] * 0.453592\n",
    "df['taille_moteur'] = df['taille_moteur'] * 0.0163871\n",
    "df['taux_alésage'] = df['taux_alésage'] * 25.4\n",
    "df['course'] = df['course'] * 25.4\n",
    "df['consommation_ville'] = 235.214 / df['consommation_ville']\n",
    "df['consommation_autoroute'] = 235.214 / df['consommation_autoroute']\n",
    "\n",
    "df.to_csv('prix_voiture.csv', index=False)\n",
    "\n",
    "# Afficher les premières lignes du DataFrame pour vérifier les modifications\n",
    "print(df.head())\n"
   ]
  }
 ],
 "metadata": {
  "kernelspec": {
   "display_name": "sklearn-env",
   "language": "python",
   "name": "python3"
  },
  "language_info": {
   "codemirror_mode": {
    "name": "ipython",
    "version": 3
   },
   "file_extension": ".py",
   "mimetype": "text/x-python",
   "name": "python",
   "nbconvert_exporter": "python",
   "pygments_lexer": "ipython3",
   "version": "3.11.3"
  },
  "orig_nbformat": 4,
  "vscode": {
   "interpreter": {
    "hash": "28ff26c65758d064959116f1d9c8fbca26d00c18c6d798db5e6a86c21bd645e4"
   }
  }
 },
 "nbformat": 4,
 "nbformat_minor": 2
}
