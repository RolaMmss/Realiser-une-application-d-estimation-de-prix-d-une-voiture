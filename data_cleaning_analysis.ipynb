{
 "cells": [
  {
   "cell_type": "code",
   "execution_count": null,
   "metadata": {},
   "outputs": [],
   "source": [
    "import numpy as np\n",
    "import pandas as pd\n",
    "from ydata_profiling import ProfileReport"
   ]
  },
  {
   "cell_type": "code",
   "execution_count": null,
   "metadata": {},
   "outputs": [],
   "source": [
    "df = pd.read_csv(\"carprice_original.csv\")\n",
    "profile = ProfileReport(df, title=\"Profiling Report\")"
   ]
  },
  {
   "cell_type": "code",
   "execution_count": null,
   "metadata": {},
   "outputs": [],
   "source": [
    "# profile.to_notebook_iframe()"
   ]
  },
  {
   "cell_type": "code",
   "execution_count": null,
   "metadata": {},
   "outputs": [],
   "source": [
    "# profile.to_html()"
   ]
  },
  {
   "cell_type": "code",
   "execution_count": null,
   "metadata": {},
   "outputs": [],
   "source": [
    "# profile.to_file('prix_voiture_report.html')"
   ]
  },
  {
   "cell_type": "code",
   "execution_count": null,
   "metadata": {},
   "outputs": [],
   "source": [
    "# profile.to_widgets()"
   ]
  },
  {
   "cell_type": "code",
   "execution_count": null,
   "metadata": {},
   "outputs": [],
   "source": [
    "\n",
    "# Load CSV file into a DataFrame\n",
    "df = pd.read_csv('carprice_original.csv')\n",
    "# set the maximum number of columns to be displayed to None\n",
    "pd.set_option(\"display.max_columns\", None)\n",
    "\n",
    "# Display the first 5 rows of the Data\n",
    "print(df.head(5))"
   ]
  },
  {
   "cell_type": "code",
   "execution_count": null,
   "metadata": {},
   "outputs": [],
   "source": [
    "df.info()\n",
    "df.describe()"
   ]
  },
  {
   "cell_type": "code",
   "execution_count": null,
   "metadata": {},
   "outputs": [],
   "source": [
    "# Pour séparer la colonne nommée \"symboling\" en deux colonnes distinctes nommées \"marque\" et \"modèle\n",
    "df[['marque', 'modèle']] = df['CarName'].str.split(' ', 1, expand=True)\n",
    "\n",
    "df.drop('CarName', axis=1, inplace=True)\n",
    "\n",
    "df.to_csv('prix_voiture.csv', index=False)"
   ]
  },
  {
   "attachments": {},
   "cell_type": "markdown",
   "metadata": {},
   "source": [
    "#### Pour nettoyer et modifier votre fichier CSV pour qu'il soit conforme aux normes françaises:"
   ]
  },
  {
   "cell_type": "code",
   "execution_count": null,
   "metadata": {},
   "outputs": [],
   "source": [
    "\n",
    "# Modifier les valeurs de la colonne \"fueltype\"\n",
    "df[\"fueltype\"] = df[\"fueltype\"].replace({\"gas\": \"essence\", \"diesel\": \"diesel\"})\n",
    "\n",
    "# Modifier les valeurs de la colonne \"aspiration\"\n",
    "df[\"aspiration\"] = df[\"aspiration\"].replace({\"std\": \"atmosphérique\", \"turbo\": \"turbo\"})\n",
    "\n",
    "# Modifier les valeurs de la colonne \"doornumber\"\n",
    "df[\"doornumber\"] = df[\"doornumber\"].replace({\"two\": \"deux\", \"four\": \"quatre\"})\n",
    "\n",
    "# Modifier les valeurs de la colonne \"carbody\"\n",
    "df[\"carbody\"] = df[\"carbody\"].replace({\"hatchback\": \"berline compacte\", \"sedan\": \"berline\", \"wagon\": \"break\"})\n",
    "\n",
    "# Modifier les valeurs de la colonne \"drivewheel\"\n",
    "df[\"drivewheel\"] = df[\"drivewheel\"].replace({\"rwd\": \"propulsion\", \"fwd\": \"traction\", \"4wd\": \"quatre roues motrices\"})\n",
    "\n",
    "# Modifier les valeurs de la colonne \"enginelocation\"\n",
    "df[\"enginelocation\"] = df[\"enginelocation\"].replace({\"front\": \"avant\", \"rear\": \"arrière\"})\n",
    "\n",
    "# Renommer les colonnes \"carlength\", \"carwidth\" et \"carheight\"\n",
    "df = df.rename(columns={\"carlength\": \"longueur\", \"carwidth\": \"largeur\", \"carheight\": \"hauteur\"})\n",
    "#######################################################\n",
    "\n",
    "df = df.rename(columns={'car_ID': 'identifiant', 'symboling': 'etat_de_route', 'fueltype': 'carburant', 'aspiration': 'turbo', 'doornumber': 'nombre_portes', 'carbody': 'type_vehicule', 'drivewheel': 'roues_motrices', 'enginelocation': 'emplacement_moteur', 'wheelbase': 'empattement', 'carlength': 'longueur_voiture', 'carwidth': 'largeur_voiture', 'carheight': 'hauteur_voiture', 'curbweight': 'poids_vehicule', 'enginetype': 'type_moteur', 'cylindernumber': 'nombre_cylindres', 'enginesize': 'taille_moteur', 'fuelsystem': 'systeme_carburant', 'boreratio': 'taux_alésage', 'stroke': 'course', 'compressionratio': 'taux_compression', 'horsepower': 'chevaux', 'peakrpm': 'tour_moteur', 'citympg': 'consommation_ville', 'highwaympg': 'consommation_autoroute', 'price': 'prix'})\n",
    "\n",
    "df.to_csv('prix_voiture.csv', index=False)\n"
   ]
  },
  {
   "cell_type": "code",
   "execution_count": null,
   "metadata": {},
   "outputs": [],
   "source": [
    "# enleve la colonne car_id\n",
    "df = df.drop('identifiant', axis=1)"
   ]
  },
  {
   "attachments": {},
   "cell_type": "markdown",
   "metadata": {},
   "source": [
    "#### Il y a 2 valeurs null dans la colonne \"modèle\". On supprime ces deux lignes."
   ]
  },
  {
   "cell_type": "code",
   "execution_count": null,
   "metadata": {},
   "outputs": [],
   "source": [
    "df = df.dropna()\n",
    "\n",
    "# display the resulting DataFrame\n",
    "df.info()"
   ]
  },
  {
   "cell_type": "code",
   "execution_count": null,
   "metadata": {},
   "outputs": [],
   "source": [
    "df.describe()"
   ]
  },
  {
   "cell_type": "code",
   "execution_count": null,
   "metadata": {},
   "outputs": [],
   "source": [
    "# df = pd.read_csv(\"prix_voiture.csv\")\n",
    "profile = ProfileReport(df, title=\"Profiling Report\")\n",
    "profile.to_file('prix_voiture_report.html')"
   ]
  },
  {
   "cell_type": "code",
   "execution_count": null,
   "metadata": {},
   "outputs": [],
   "source": [
    "# Selectionner les colonnes numeriques\n",
    "numeric_cols = df.select_dtypes(include=['int', 'float']).columns\n",
    "numeric_cols"
   ]
  },
  {
   "cell_type": "code",
   "execution_count": null,
   "metadata": {},
   "outputs": [],
   "source": [
    "# Conversion des unités américaines en unités françaises\n",
    "df['empattement'] = (df['empattement'] * 0.0254).round(2)\n",
    "df['longueur'] = df['longueur'] * 0.0254\n",
    "df['largeur'] = df['largeur'] * 0.0254\n",
    "df['hauteur'] = df['hauteur'] * 0.0254\n",
    "df['poids_vehicule'] = df['poids_vehicule'] * 0.453592\n",
    "df['taille_moteur'] = df['taille_moteur'] * 0.0163871\n",
    "df['taux_alésage'] = df['taux_alésage'] * 25.4\n",
    "df['course'] = df['course'] * 25.4\n",
    "df['consommation_ville'] = 235.214 / df['consommation_ville']\n",
    "df['consommation_autoroute'] = 235.214 / df['consommation_autoroute']\n",
    "\n",
    "df.to_csv('prix_voiture.csv', index=False)\n",
    "\n",
    "# Afficher les premières lignes du DataFrame pour vérifier les modifications\n",
    "print(df.head())\n"
   ]
  },
  {
   "cell_type": "code",
   "execution_count": null,
   "metadata": {},
   "outputs": [],
   "source": [
    "df.describe()"
   ]
  },
  {
   "cell_type": "code",
   "execution_count": null,
   "metadata": {},
   "outputs": [],
   "source": [
    "df.isnull().sum()"
   ]
  },
  {
   "cell_type": "code",
   "execution_count": null,
   "metadata": {},
   "outputs": [],
   "source": [
    "df.duplicated().sum()"
   ]
  },
  {
   "cell_type": "code",
   "execution_count": null,
   "metadata": {},
   "outputs": [],
   "source": [
    "df['marque'].unique()\n"
   ]
  },
  {
   "cell_type": "code",
   "execution_count": null,
   "metadata": {},
   "outputs": [],
   "source": [
    "df[\"marque\"] = df[\"marque\"].replace({\"porcshce\": \"porsche\", \"toyouta\": \"toyota\", \"vokswagen\": \"volkswagen\", \"maxda\": \"mazda\", \"Nissan\": \"nissan\"})\n"
   ]
  },
  {
   "cell_type": "code",
   "execution_count": null,
   "metadata": {},
   "outputs": [],
   "source": [
    "df['marque'].unique()\n"
   ]
  },
  {
   "cell_type": "code",
   "execution_count": null,
   "metadata": {},
   "outputs": [],
   "source": [
    "df['modèle'].unique()\n"
   ]
  },
  {
   "cell_type": "code",
   "execution_count": null,
   "metadata": {},
   "outputs": [],
   "source": [
    "df['tour_moteur'].unique()\n"
   ]
  },
  {
   "cell_type": "code",
   "execution_count": null,
   "metadata": {},
   "outputs": [],
   "source": [
    "df[\"modèle\"] = df[\"modèle\"].replace({\"100 ls\": \"100ls\"})\n",
    "df\n"
   ]
  },
  {
   "cell_type": "code",
   "execution_count": null,
   "metadata": {},
   "outputs": [],
   "source": [
    "%matplotlib inline\n",
    "import matplotlib.pyplot as plt\n",
    "import seaborn as sns\n",
    "# Calcul de la matrice de corrélation\n",
    "corr_matrix = df.corr(numeric_only=True)\n",
    "# Création de la heatmap\n",
    "plt.figure(figsize=(10, 10))\n",
    "sns.heatmap(corr_matrix, annot=True, cmap='coolwarm', square=True)\n",
    "\n",
    "# Affichage de la heatmap\n",
    "plt.show()\n",
    "df.corr()"
   ]
  },
  {
   "cell_type": "code",
   "execution_count": null,
   "metadata": {},
   "outputs": [],
   "source": [
    "df.to_csv('prix_voiture.csv', index=False)\n"
   ]
  }
 ],
 "metadata": {
  "kernelspec": {
   "display_name": "sklearn-env",
   "language": "python",
   "name": "python3"
  },
  "language_info": {
   "codemirror_mode": {
    "name": "ipython",
    "version": 3
   },
   "file_extension": ".py",
   "mimetype": "text/x-python",
   "name": "python",
   "nbconvert_exporter": "python",
   "pygments_lexer": "ipython3",
   "version": "3.11.3 (main, Apr 19 2023, 23:54:32) [GCC 11.2.0]"
  },
  "orig_nbformat": 4,
  "vscode": {
   "interpreter": {
    "hash": "28ff26c65758d064959116f1d9c8fbca26d00c18c6d798db5e6a86c21bd645e4"
   }
  }
 },
 "nbformat": 4,
 "nbformat_minor": 2
}
