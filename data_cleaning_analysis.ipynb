{
 "cells": [
  {
   "cell_type": "code",
   "execution_count": 49,
   "metadata": {},
   "outputs": [],
   "source": [
    "import numpy as np\n",
    "import pandas as pd\n",
    "from ydata_profiling import ProfileReport"
   ]
  },
  {
   "cell_type": "code",
   "execution_count": 50,
   "metadata": {},
   "outputs": [],
   "source": [
    "df = pd.read_csv(\"carprice_original.csv\")\n",
    "profile = ProfileReport(df, title=\"Profiling Report\")"
   ]
  },
  {
   "cell_type": "code",
   "execution_count": 51,
   "metadata": {},
   "outputs": [],
   "source": [
    "# profile.to_notebook_iframe()"
   ]
  },
  {
   "cell_type": "code",
   "execution_count": 52,
   "metadata": {},
   "outputs": [],
   "source": [
    "# profile.to_html()"
   ]
  },
  {
   "cell_type": "code",
   "execution_count": 53,
   "metadata": {},
   "outputs": [
    {
     "data": {
      "application/vnd.jupyter.widget-view+json": {
       "model_id": "ba623a05e3464a56a03238e7ee827738",
       "version_major": 2,
       "version_minor": 0
      },
      "text/plain": [
       "Summarize dataset:   0%|          | 0/5 [00:00<?, ?it/s]"
      ]
     },
     "metadata": {},
     "output_type": "display_data"
    },
    {
     "data": {
      "application/vnd.jupyter.widget-view+json": {
       "model_id": "8ca316f2742a403e8b5de8c8f2dadf81",
       "version_major": 2,
       "version_minor": 0
      },
      "text/plain": [
       "Generate report structure:   0%|          | 0/1 [00:00<?, ?it/s]"
      ]
     },
     "metadata": {},
     "output_type": "display_data"
    },
    {
     "data": {
      "application/vnd.jupyter.widget-view+json": {
       "model_id": "885af6c218fe460e8c6c62797ab59e85",
       "version_major": 2,
       "version_minor": 0
      },
      "text/plain": [
       "Render HTML:   0%|          | 0/1 [00:00<?, ?it/s]"
      ]
     },
     "metadata": {},
     "output_type": "display_data"
    },
    {
     "data": {
      "application/vnd.jupyter.widget-view+json": {
       "model_id": "bb7232e9613c4b6fb4e8a34a28300e30",
       "version_major": 2,
       "version_minor": 0
      },
      "text/plain": [
       "Export report to file:   0%|          | 0/1 [00:00<?, ?it/s]"
      ]
     },
     "metadata": {},
     "output_type": "display_data"
    }
   ],
   "source": [
    "profile.to_file('prix_voiture_report.html')"
   ]
  },
  {
   "cell_type": "code",
   "execution_count": 54,
   "metadata": {},
   "outputs": [],
   "source": [
    "# profile.to_widgets()"
   ]
  },
  {
   "cell_type": "code",
   "execution_count": 55,
   "metadata": {},
   "outputs": [
    {
     "name": "stdout",
     "output_type": "stream",
     "text": [
      "   car_ID  symboling                   CarName fueltype aspiration doornumber  \\\n",
      "0       1          3        alfa-romero giulia      gas        std        two   \n",
      "1       2          3       alfa-romero stelvio      gas        std        two   \n",
      "2       3          1  alfa-romero Quadrifoglio      gas        std        two   \n",
      "3       4          2               audi 100 ls      gas        std       four   \n",
      "4       5          2                audi 100ls      gas        std       four   \n",
      "\n",
      "       carbody drivewheel enginelocation  wheelbase  carlength  carwidth  \\\n",
      "0  convertible        rwd          front       88.6      168.8      64.1   \n",
      "1  convertible        rwd          front       88.6      168.8      64.1   \n",
      "2    hatchback        rwd          front       94.5      171.2      65.5   \n",
      "3        sedan        fwd          front       99.8      176.6      66.2   \n",
      "4        sedan        4wd          front       99.4      176.6      66.4   \n",
      "\n",
      "   carheight  curbweight enginetype cylindernumber  enginesize fuelsystem  \\\n",
      "0       48.8        2548       dohc           four         130       mpfi   \n",
      "1       48.8        2548       dohc           four         130       mpfi   \n",
      "2       52.4        2823       ohcv            six         152       mpfi   \n",
      "3       54.3        2337        ohc           four         109       mpfi   \n",
      "4       54.3        2824        ohc           five         136       mpfi   \n",
      "\n",
      "   boreratio  stroke  compressionratio  horsepower  peakrpm  citympg  \\\n",
      "0       3.47    2.68               9.0         111     5000       21   \n",
      "1       3.47    2.68               9.0         111     5000       21   \n",
      "2       2.68    3.47               9.0         154     5000       19   \n",
      "3       3.19    3.40              10.0         102     5500       24   \n",
      "4       3.19    3.40               8.0         115     5500       18   \n",
      "\n",
      "   highwaympg    price  \n",
      "0          27  13495.0  \n",
      "1          27  16500.0  \n",
      "2          26  16500.0  \n",
      "3          30  13950.0  \n",
      "4          22  17450.0  \n"
     ]
    }
   ],
   "source": [
    "\n",
    "# Load CSV file into a DataFrame\n",
    "df = pd.read_csv('carprice_original.csv')\n",
    "# set the maximum number of columns to be displayed to None\n",
    "pd.set_option(\"display.max_columns\", None)\n",
    "\n",
    "# Display the first 5 rows of the Data\n",
    "print(df.head(5))"
   ]
  },
  {
   "cell_type": "code",
   "execution_count": 56,
   "metadata": {},
   "outputs": [
    {
     "name": "stdout",
     "output_type": "stream",
     "text": [
      "<class 'pandas.core.frame.DataFrame'>\n",
      "RangeIndex: 205 entries, 0 to 204\n",
      "Data columns (total 26 columns):\n",
      " #   Column            Non-Null Count  Dtype  \n",
      "---  ------            --------------  -----  \n",
      " 0   car_ID            205 non-null    int64  \n",
      " 1   symboling         205 non-null    int64  \n",
      " 2   CarName           205 non-null    object \n",
      " 3   fueltype          205 non-null    object \n",
      " 4   aspiration        205 non-null    object \n",
      " 5   doornumber        205 non-null    object \n",
      " 6   carbody           205 non-null    object \n",
      " 7   drivewheel        205 non-null    object \n",
      " 8   enginelocation    205 non-null    object \n",
      " 9   wheelbase         205 non-null    float64\n",
      " 10  carlength         205 non-null    float64\n",
      " 11  carwidth          205 non-null    float64\n",
      " 12  carheight         205 non-null    float64\n",
      " 13  curbweight        205 non-null    int64  \n",
      " 14  enginetype        205 non-null    object \n",
      " 15  cylindernumber    205 non-null    object \n",
      " 16  enginesize        205 non-null    int64  \n",
      " 17  fuelsystem        205 non-null    object \n",
      " 18  boreratio         205 non-null    float64\n",
      " 19  stroke            205 non-null    float64\n",
      " 20  compressionratio  205 non-null    float64\n",
      " 21  horsepower        205 non-null    int64  \n",
      " 22  peakrpm           205 non-null    int64  \n",
      " 23  citympg           205 non-null    int64  \n",
      " 24  highwaympg        205 non-null    int64  \n",
      " 25  price             205 non-null    float64\n",
      "dtypes: float64(8), int64(8), object(10)\n",
      "memory usage: 41.8+ KB\n"
     ]
    }
   ],
   "source": [
    "df.info()"
   ]
  },
  {
   "cell_type": "code",
   "execution_count": 57,
   "metadata": {},
   "outputs": [
    {
     "name": "stderr",
     "output_type": "stream",
     "text": [
      "/tmp/ipykernel_98598/3617452879.py:2: FutureWarning: In a future version of pandas all arguments of StringMethods.split except for the argument 'pat' will be keyword-only.\n",
      "  df[['marque', 'modèle']] = df['CarName'].str.split(' ', 1, expand=True)\n"
     ]
    }
   ],
   "source": [
    "# Pour séparer la colonne nommée \"symboling\" en deux colonnes distinctes nommées \"marque\" et \"modèle\n",
    "df[['marque', 'modèle']] = df['CarName'].str.split(' ', 1, expand=True)\n",
    "\n",
    "df.drop('CarName', axis=1, inplace=True)\n",
    "\n",
    "df.to_csv('prix_voiture.csv', index=False)"
   ]
  },
  {
   "attachments": {},
   "cell_type": "markdown",
   "metadata": {},
   "source": [
    "#### Pour nettoyer et modifier votre fichier CSV pour qu'il soit conforme aux normes françaises:"
   ]
  },
  {
   "cell_type": "code",
   "execution_count": 58,
   "metadata": {},
   "outputs": [
    {
     "name": "stdout",
     "output_type": "stream",
     "text": [
      "<class 'pandas.core.frame.DataFrame'>\n",
      "RangeIndex: 205 entries, 0 to 204\n",
      "Data columns (total 27 columns):\n",
      " #   Column            Non-Null Count  Dtype  \n",
      "---  ------            --------------  -----  \n",
      " 0   car_ID            205 non-null    int64  \n",
      " 1   symboling         205 non-null    int64  \n",
      " 2   fueltype          205 non-null    object \n",
      " 3   aspiration        205 non-null    object \n",
      " 4   doornumber        205 non-null    object \n",
      " 5   carbody           205 non-null    object \n",
      " 6   drivewheel        205 non-null    object \n",
      " 7   enginelocation    205 non-null    object \n",
      " 8   wheelbase         205 non-null    float64\n",
      " 9   carlength         205 non-null    float64\n",
      " 10  carwidth          205 non-null    float64\n",
      " 11  carheight         205 non-null    float64\n",
      " 12  curbweight        205 non-null    int64  \n",
      " 13  enginetype        205 non-null    object \n",
      " 14  cylindernumber    205 non-null    object \n",
      " 15  enginesize        205 non-null    int64  \n",
      " 16  fuelsystem        205 non-null    object \n",
      " 17  boreratio         205 non-null    float64\n",
      " 18  stroke            205 non-null    float64\n",
      " 19  compressionratio  205 non-null    float64\n",
      " 20  horsepower        205 non-null    int64  \n",
      " 21  peakrpm           205 non-null    int64  \n",
      " 22  citympg           205 non-null    int64  \n",
      " 23  highwaympg        205 non-null    int64  \n",
      " 24  price             205 non-null    float64\n",
      " 25  marque            205 non-null    object \n",
      " 26  modèle            203 non-null    object \n",
      "dtypes: float64(8), int64(8), object(11)\n",
      "memory usage: 43.4+ KB\n"
     ]
    }
   ],
   "source": [
    "df.info()"
   ]
  },
  {
   "cell_type": "code",
   "execution_count": 59,
   "metadata": {},
   "outputs": [],
   "source": [
    "\n",
    "# Modifier les valeurs de la colonne \"fueltype\"\n",
    "df[\"fueltype\"] = df[\"fueltype\"].replace({\"gas\": \"essence\", \"diesel\": \"diesel\"})\n",
    "\n",
    "# Modifier les valeurs de la colonne \"aspiration\"\n",
    "df[\"aspiration\"] = df[\"aspiration\"].replace({\"std\": \"atmosphérique\", \"turbo\": \"turbo\"})\n",
    "\n",
    "# Modifier les valeurs de la colonne \"doornumber\"\n",
    "df[\"doornumber\"] = df[\"doornumber\"].replace({\"two\": \"deux\", \"four\": \"quatre\"})\n",
    "\n",
    "# Modifier les valeurs de la colonne \"carbody\"\n",
    "df[\"carbody\"] = df[\"carbody\"].replace({\"hatchback\": \"berline compacte\", \"sedan\": \"berline\", \"wagon\": \"break\"})\n",
    "\n",
    "# Modifier les valeurs de la colonne \"drivewheel\"\n",
    "df[\"drivewheel\"] = df[\"drivewheel\"].replace({\"rwd\": \"propulsion\", \"fwd\": \"traction\", \"4wd\": \"quatre roues motrices\"})\n",
    "\n",
    "# Modifier les valeurs de la colonne \"enginelocation\"\n",
    "df[\"enginelocation\"] = df[\"enginelocation\"].replace({\"front\": \"avant\", \"rear\": \"arrière\"})\n",
    "\n",
    "# Renommer les colonnes \"carlength\", \"carwidth\" et \"carheight\"\n",
    "df = df.rename(columns={\"carlength\": \"longueur\", \"carwidth\": \"largeur\", \"carheight\": \"hauteur\"})\n",
    "#######################################################\n",
    "\n",
    "df = df.rename(columns={'car_ID': 'identifiant', 'symboling': 'etat_de_route', 'fueltype': 'carburant', 'aspiration': 'turbo', 'doornumber': 'nombre_portes', 'carbody': 'type_vehicule', 'drivewheel': 'roues_motrices', 'enginelocation': 'emplacement_moteur', 'wheelbase': 'empattement', 'carlength': 'longueur_voiture', 'carwidth': 'largeur_voiture', 'carheight': 'hauteur_voiture', 'curbweight': 'poids_vehicule', 'enginetype': 'type_moteur', 'cylindernumber': 'nombre_cylindres', 'enginesize': 'taille_moteur', 'fuelsystem': 'systeme_carburant', 'boreratio': 'taux_alésage', 'stroke': 'course', 'compressionratio': 'taux_compression', 'horsepower': 'chevaux', 'peakrpm': 'tour_moteur', 'citympg': 'consommation_ville', 'highwaympg': 'consommation_autoroute', 'price': 'prix'})\n",
    "\n",
    "df.to_csv('prix_voiture.csv', index=False)\n"
   ]
  },
  {
   "attachments": {},
   "cell_type": "markdown",
   "metadata": {},
   "source": [
    "#### Il y a 2 valeurs null dans la colonne \"modèle\". On supprime ces deux lignes."
   ]
  },
  {
   "cell_type": "code",
   "execution_count": 60,
   "metadata": {},
   "outputs": [
    {
     "name": "stdout",
     "output_type": "stream",
     "text": [
      "<class 'pandas.core.frame.DataFrame'>\n",
      "Int64Index: 203 entries, 0 to 204\n",
      "Data columns (total 27 columns):\n",
      " #   Column                  Non-Null Count  Dtype  \n",
      "---  ------                  --------------  -----  \n",
      " 0   identifiant             203 non-null    int64  \n",
      " 1   etat_de_route           203 non-null    int64  \n",
      " 2   carburant               203 non-null    object \n",
      " 3   turbo                   203 non-null    object \n",
      " 4   nombre_portes           203 non-null    object \n",
      " 5   type_vehicule           203 non-null    object \n",
      " 6   roues_motrices          203 non-null    object \n",
      " 7   emplacement_moteur      203 non-null    object \n",
      " 8   empattement             203 non-null    float64\n",
      " 9   longueur                203 non-null    float64\n",
      " 10  largeur                 203 non-null    float64\n",
      " 11  hauteur                 203 non-null    float64\n",
      " 12  poids_vehicule          203 non-null    int64  \n",
      " 13  type_moteur             203 non-null    object \n",
      " 14  nombre_cylindres        203 non-null    object \n",
      " 15  taille_moteur           203 non-null    int64  \n",
      " 16  systeme_carburant       203 non-null    object \n",
      " 17  taux_alésage            203 non-null    float64\n",
      " 18  course                  203 non-null    float64\n",
      " 19  taux_compression        203 non-null    float64\n",
      " 20  chevaux                 203 non-null    int64  \n",
      " 21  tour_moteur             203 non-null    int64  \n",
      " 22  consommation_ville      203 non-null    int64  \n",
      " 23  consommation_autoroute  203 non-null    int64  \n",
      " 24  prix                    203 non-null    float64\n",
      " 25  marque                  203 non-null    object \n",
      " 26  modèle                  203 non-null    object \n",
      "dtypes: float64(8), int64(8), object(11)\n",
      "memory usage: 44.4+ KB\n"
     ]
    }
   ],
   "source": [
    "df = df.dropna()\n",
    "\n",
    "# display the resulting DataFrame\n",
    "df.info()"
   ]
  },
  {
   "cell_type": "code",
   "execution_count": 61,
   "metadata": {},
   "outputs": [
    {
     "data": {
      "application/vnd.jupyter.widget-view+json": {
       "model_id": "103568e7c94c48cfb522bca665c53b47",
       "version_major": 2,
       "version_minor": 0
      },
      "text/plain": [
       "Summarize dataset:   0%|          | 0/5 [00:00<?, ?it/s]"
      ]
     },
     "metadata": {},
     "output_type": "display_data"
    },
    {
     "data": {
      "application/vnd.jupyter.widget-view+json": {
       "model_id": "f5d3cdcb639a4976841de7561b08503d",
       "version_major": 2,
       "version_minor": 0
      },
      "text/plain": [
       "Generate report structure:   0%|          | 0/1 [00:00<?, ?it/s]"
      ]
     },
     "metadata": {},
     "output_type": "display_data"
    },
    {
     "data": {
      "application/vnd.jupyter.widget-view+json": {
       "model_id": "3f80b341713a4f6ea809ede5d605b0b2",
       "version_major": 2,
       "version_minor": 0
      },
      "text/plain": [
       "Render HTML:   0%|          | 0/1 [00:00<?, ?it/s]"
      ]
     },
     "metadata": {},
     "output_type": "display_data"
    },
    {
     "data": {
      "application/vnd.jupyter.widget-view+json": {
       "model_id": "ab853291d7ac46ec950317682771126f",
       "version_major": 2,
       "version_minor": 0
      },
      "text/plain": [
       "Export report to file:   0%|          | 0/1 [00:00<?, ?it/s]"
      ]
     },
     "metadata": {},
     "output_type": "display_data"
    }
   ],
   "source": [
    "df = pd.read_csv(\"prix_voiture.csv\")\n",
    "profile = ProfileReport(df, title=\"Profiling Report\")\n",
    "profile.to_file('prix_voiture_report.html')"
   ]
  },
  {
   "cell_type": "code",
   "execution_count": 62,
   "metadata": {},
   "outputs": [
    {
     "data": {
      "text/plain": [
       "Index(['identifiant', 'etat_de_route', 'empattement', 'longueur', 'largeur',\n",
       "       'hauteur', 'poids_vehicule', 'taille_moteur', 'taux_alésage', 'course',\n",
       "       'taux_compression', 'chevaux', 'tour_moteur', 'consommation_ville',\n",
       "       'consommation_autoroute', 'prix'],\n",
       "      dtype='object')"
      ]
     },
     "execution_count": 62,
     "metadata": {},
     "output_type": "execute_result"
    }
   ],
   "source": [
    "# Selectionner les colonnes numeriques\n",
    "numeric_cols = df.select_dtypes(include=['int', 'float']).columns\n",
    "numeric_cols"
   ]
  },
  {
   "cell_type": "code",
   "execution_count": 63,
   "metadata": {},
   "outputs": [
    {
     "name": "stdout",
     "output_type": "stream",
     "text": [
      "   identifiant  etat_de_route carburant          turbo nombre_portes  \\\n",
      "0            1              3   essence  atmosphérique          deux   \n",
      "1            2              3   essence  atmosphérique          deux   \n",
      "2            3              1   essence  atmosphérique          deux   \n",
      "3            4              2   essence  atmosphérique        quatre   \n",
      "4            5              2   essence  atmosphérique        quatre   \n",
      "\n",
      "      type_vehicule         roues_motrices emplacement_moteur  empattement  \\\n",
      "0       convertible             propulsion              avant         2.25   \n",
      "1       convertible             propulsion              avant         2.25   \n",
      "2  berline compacte             propulsion              avant         2.40   \n",
      "3           berline               traction              avant         2.53   \n",
      "4           berline  quatre roues motrices              avant         2.52   \n",
      "\n",
      "   longueur  largeur  hauteur  poids_vehicule type_moteur nombre_cylindres  \\\n",
      "0   4.28752  1.62814  1.23952     1155.752416        dohc             four   \n",
      "1   4.28752  1.62814  1.23952     1155.752416        dohc             four   \n",
      "2   4.34848  1.66370  1.33096     1280.490216        ohcv              six   \n",
      "3   4.48564  1.68148  1.37922     1060.044504         ohc             four   \n",
      "4   4.48564  1.68656  1.37922     1280.943808         ohc             five   \n",
      "\n",
      "   taille_moteur systeme_carburant  taux_alésage  course  taux_compression  \\\n",
      "0       2.130323              mpfi        88.138  68.072               9.0   \n",
      "1       2.130323              mpfi        88.138  68.072               9.0   \n",
      "2       2.490839              mpfi        68.072  88.138               9.0   \n",
      "3       1.786194              mpfi        81.026  86.360              10.0   \n",
      "4       2.228646              mpfi        81.026  86.360               8.0   \n",
      "\n",
      "   chevaux  tour_moteur  consommation_ville  consommation_autoroute     prix  \\\n",
      "0      111         5000           11.200667                8.711630  13495.0   \n",
      "1      111         5000           11.200667                8.711630  16500.0   \n",
      "2      154         5000           12.379684                9.046692  16500.0   \n",
      "3      102         5500            9.800583                7.840467  13950.0   \n",
      "4      115         5500           13.067444               10.691545  17450.0   \n",
      "\n",
      "        marque        modèle  \n",
      "0  alfa-romero        giulia  \n",
      "1  alfa-romero       stelvio  \n",
      "2  alfa-romero  Quadrifoglio  \n",
      "3         audi        100 ls  \n",
      "4         audi         100ls  \n"
     ]
    }
   ],
   "source": [
    "# Conversion des unités américaines en unités françaises\n",
    "df['empattement'] = (df['empattement'] * 0.0254).round(2)\n",
    "df['longueur'] = df['longueur'] * 0.0254\n",
    "df['largeur'] = df['largeur'] * 0.0254\n",
    "df['hauteur'] = df['hauteur'] * 0.0254\n",
    "df['poids_vehicule'] = df['poids_vehicule'] * 0.453592\n",
    "df['taille_moteur'] = df['taille_moteur'] * 0.0163871\n",
    "df['taux_alésage'] = df['taux_alésage'] * 25.4\n",
    "df['course'] = df['course'] * 25.4\n",
    "df['consommation_ville'] = 235.214 / df['consommation_ville']\n",
    "df['consommation_autoroute'] = 235.214 / df['consommation_autoroute']\n",
    "\n",
    "df.to_csv('prix_voiture.csv', index=False)\n",
    "\n",
    "# Afficher les premières lignes du DataFrame pour vérifier les modifications\n",
    "print(df.head())\n"
   ]
  },
  {
   "cell_type": "code",
   "execution_count": 64,
   "metadata": {},
   "outputs": [
    {
     "data": {
      "text/html": [
       "<div>\n",
       "<style scoped>\n",
       "    .dataframe tbody tr th:only-of-type {\n",
       "        vertical-align: middle;\n",
       "    }\n",
       "\n",
       "    .dataframe tbody tr th {\n",
       "        vertical-align: top;\n",
       "    }\n",
       "\n",
       "    .dataframe thead th {\n",
       "        text-align: right;\n",
       "    }\n",
       "</style>\n",
       "<table border=\"1\" class=\"dataframe\">\n",
       "  <thead>\n",
       "    <tr style=\"text-align: right;\">\n",
       "      <th></th>\n",
       "      <th>identifiant</th>\n",
       "      <th>etat_de_route</th>\n",
       "      <th>empattement</th>\n",
       "      <th>longueur</th>\n",
       "      <th>largeur</th>\n",
       "      <th>hauteur</th>\n",
       "      <th>poids_vehicule</th>\n",
       "      <th>taille_moteur</th>\n",
       "      <th>taux_alésage</th>\n",
       "      <th>course</th>\n",
       "      <th>taux_compression</th>\n",
       "      <th>chevaux</th>\n",
       "      <th>tour_moteur</th>\n",
       "      <th>consommation_ville</th>\n",
       "      <th>consommation_autoroute</th>\n",
       "      <th>prix</th>\n",
       "    </tr>\n",
       "  </thead>\n",
       "  <tbody>\n",
       "    <tr>\n",
       "      <th>count</th>\n",
       "      <td>205.000000</td>\n",
       "      <td>205.000000</td>\n",
       "      <td>205.000000</td>\n",
       "      <td>205.000000</td>\n",
       "      <td>205.000000</td>\n",
       "      <td>205.000000</td>\n",
       "      <td>205.000000</td>\n",
       "      <td>205.000000</td>\n",
       "      <td>205.000000</td>\n",
       "      <td>205.000000</td>\n",
       "      <td>205.000000</td>\n",
       "      <td>205.000000</td>\n",
       "      <td>205.000000</td>\n",
       "      <td>205.000000</td>\n",
       "      <td>205.000000</td>\n",
       "      <td>205.000000</td>\n",
       "    </tr>\n",
       "    <tr>\n",
       "      <th>mean</th>\n",
       "      <td>103.000000</td>\n",
       "      <td>0.834146</td>\n",
       "      <td>2.508098</td>\n",
       "      <td>4.420851</td>\n",
       "      <td>1.674058</td>\n",
       "      <td>1.364612</td>\n",
       "      <td>1159.184227</td>\n",
       "      <td>2.079643</td>\n",
       "      <td>84.575805</td>\n",
       "      <td>82.687532</td>\n",
       "      <td>10.142537</td>\n",
       "      <td>104.117073</td>\n",
       "      <td>5125.121951</td>\n",
       "      <td>9.958586</td>\n",
       "      <td>8.041664</td>\n",
       "      <td>13276.710571</td>\n",
       "    </tr>\n",
       "    <tr>\n",
       "      <th>std</th>\n",
       "      <td>59.322565</td>\n",
       "      <td>1.245307</td>\n",
       "      <td>0.152794</td>\n",
       "      <td>0.313367</td>\n",
       "      <td>0.054488</td>\n",
       "      <td>0.062065</td>\n",
       "      <td>236.176375</td>\n",
       "      <td>0.682403</td>\n",
       "      <td>6.879430</td>\n",
       "      <td>7.965364</td>\n",
       "      <td>3.972040</td>\n",
       "      <td>39.544167</td>\n",
       "      <td>476.985643</td>\n",
       "      <td>2.575447</td>\n",
       "      <td>1.851467</td>\n",
       "      <td>7988.852332</td>\n",
       "    </tr>\n",
       "    <tr>\n",
       "      <th>min</th>\n",
       "      <td>1.000000</td>\n",
       "      <td>-2.000000</td>\n",
       "      <td>2.200000</td>\n",
       "      <td>3.583940</td>\n",
       "      <td>1.531620</td>\n",
       "      <td>1.214120</td>\n",
       "      <td>674.944896</td>\n",
       "      <td>0.999613</td>\n",
       "      <td>64.516000</td>\n",
       "      <td>52.578000</td>\n",
       "      <td>7.000000</td>\n",
       "      <td>48.000000</td>\n",
       "      <td>4150.000000</td>\n",
       "      <td>4.800286</td>\n",
       "      <td>4.355815</td>\n",
       "      <td>5118.000000</td>\n",
       "    </tr>\n",
       "    <tr>\n",
       "      <th>25%</th>\n",
       "      <td>52.000000</td>\n",
       "      <td>0.000000</td>\n",
       "      <td>2.400000</td>\n",
       "      <td>4.224020</td>\n",
       "      <td>1.628140</td>\n",
       "      <td>1.320800</td>\n",
       "      <td>972.954840</td>\n",
       "      <td>1.589549</td>\n",
       "      <td>80.010000</td>\n",
       "      <td>78.994000</td>\n",
       "      <td>8.600000</td>\n",
       "      <td>70.000000</td>\n",
       "      <td>4800.000000</td>\n",
       "      <td>7.840467</td>\n",
       "      <td>6.918059</td>\n",
       "      <td>7788.000000</td>\n",
       "    </tr>\n",
       "    <tr>\n",
       "      <th>50%</th>\n",
       "      <td>103.000000</td>\n",
       "      <td>1.000000</td>\n",
       "      <td>2.460000</td>\n",
       "      <td>4.399280</td>\n",
       "      <td>1.663700</td>\n",
       "      <td>1.374140</td>\n",
       "      <td>1094.971088</td>\n",
       "      <td>1.966452</td>\n",
       "      <td>84.074000</td>\n",
       "      <td>83.566000</td>\n",
       "      <td>9.000000</td>\n",
       "      <td>95.000000</td>\n",
       "      <td>5200.000000</td>\n",
       "      <td>9.800583</td>\n",
       "      <td>7.840467</td>\n",
       "      <td>10295.000000</td>\n",
       "    </tr>\n",
       "    <tr>\n",
       "      <th>75%</th>\n",
       "      <td>154.000000</td>\n",
       "      <td>2.000000</td>\n",
       "      <td>2.600000</td>\n",
       "      <td>4.650740</td>\n",
       "      <td>1.699260</td>\n",
       "      <td>1.409700</td>\n",
       "      <td>1331.292520</td>\n",
       "      <td>2.310581</td>\n",
       "      <td>90.932000</td>\n",
       "      <td>86.614000</td>\n",
       "      <td>9.400000</td>\n",
       "      <td>116.000000</td>\n",
       "      <td>5500.000000</td>\n",
       "      <td>12.379684</td>\n",
       "      <td>9.408560</td>\n",
       "      <td>16503.000000</td>\n",
       "    </tr>\n",
       "    <tr>\n",
       "      <th>max</th>\n",
       "      <td>205.000000</td>\n",
       "      <td>3.000000</td>\n",
       "      <td>3.070000</td>\n",
       "      <td>5.285740</td>\n",
       "      <td>1.836420</td>\n",
       "      <td>1.518920</td>\n",
       "      <td>1844.305072</td>\n",
       "      <td>5.342195</td>\n",
       "      <td>100.076000</td>\n",
       "      <td>105.918000</td>\n",
       "      <td>23.000000</td>\n",
       "      <td>288.000000</td>\n",
       "      <td>6600.000000</td>\n",
       "      <td>18.093385</td>\n",
       "      <td>14.700875</td>\n",
       "      <td>45400.000000</td>\n",
       "    </tr>\n",
       "  </tbody>\n",
       "</table>\n",
       "</div>"
      ],
      "text/plain": [
       "       identifiant  etat_de_route  empattement    longueur     largeur  \\\n",
       "count   205.000000     205.000000   205.000000  205.000000  205.000000   \n",
       "mean    103.000000       0.834146     2.508098    4.420851    1.674058   \n",
       "std      59.322565       1.245307     0.152794    0.313367    0.054488   \n",
       "min       1.000000      -2.000000     2.200000    3.583940    1.531620   \n",
       "25%      52.000000       0.000000     2.400000    4.224020    1.628140   \n",
       "50%     103.000000       1.000000     2.460000    4.399280    1.663700   \n",
       "75%     154.000000       2.000000     2.600000    4.650740    1.699260   \n",
       "max     205.000000       3.000000     3.070000    5.285740    1.836420   \n",
       "\n",
       "          hauteur  poids_vehicule  taille_moteur  taux_alésage      course  \\\n",
       "count  205.000000      205.000000     205.000000    205.000000  205.000000   \n",
       "mean     1.364612     1159.184227       2.079643     84.575805   82.687532   \n",
       "std      0.062065      236.176375       0.682403      6.879430    7.965364   \n",
       "min      1.214120      674.944896       0.999613     64.516000   52.578000   \n",
       "25%      1.320800      972.954840       1.589549     80.010000   78.994000   \n",
       "50%      1.374140     1094.971088       1.966452     84.074000   83.566000   \n",
       "75%      1.409700     1331.292520       2.310581     90.932000   86.614000   \n",
       "max      1.518920     1844.305072       5.342195    100.076000  105.918000   \n",
       "\n",
       "       taux_compression     chevaux  tour_moteur  consommation_ville  \\\n",
       "count        205.000000  205.000000   205.000000          205.000000   \n",
       "mean          10.142537  104.117073  5125.121951            9.958586   \n",
       "std            3.972040   39.544167   476.985643            2.575447   \n",
       "min            7.000000   48.000000  4150.000000            4.800286   \n",
       "25%            8.600000   70.000000  4800.000000            7.840467   \n",
       "50%            9.000000   95.000000  5200.000000            9.800583   \n",
       "75%            9.400000  116.000000  5500.000000           12.379684   \n",
       "max           23.000000  288.000000  6600.000000           18.093385   \n",
       "\n",
       "       consommation_autoroute          prix  \n",
       "count              205.000000    205.000000  \n",
       "mean                 8.041664  13276.710571  \n",
       "std                  1.851467   7988.852332  \n",
       "min                  4.355815   5118.000000  \n",
       "25%                  6.918059   7788.000000  \n",
       "50%                  7.840467  10295.000000  \n",
       "75%                  9.408560  16503.000000  \n",
       "max                 14.700875  45400.000000  "
      ]
     },
     "execution_count": 64,
     "metadata": {},
     "output_type": "execute_result"
    }
   ],
   "source": [
    "df.describe()"
   ]
  }
 ],
 "metadata": {
  "kernelspec": {
   "display_name": "sklearn-env",
   "language": "python",
   "name": "python3"
  },
  "language_info": {
   "codemirror_mode": {
    "name": "ipython",
    "version": 3
   },
   "file_extension": ".py",
   "mimetype": "text/x-python",
   "name": "python",
   "nbconvert_exporter": "python",
   "pygments_lexer": "ipython3",
   "version": "3.11.3 (main, Apr 19 2023, 23:54:32) [GCC 11.2.0]"
  },
  "orig_nbformat": 4,
  "vscode": {
   "interpreter": {
    "hash": "28ff26c65758d064959116f1d9c8fbca26d00c18c6d798db5e6a86c21bd645e4"
   }
  }
 },
 "nbformat": 4,
 "nbformat_minor": 2
}
