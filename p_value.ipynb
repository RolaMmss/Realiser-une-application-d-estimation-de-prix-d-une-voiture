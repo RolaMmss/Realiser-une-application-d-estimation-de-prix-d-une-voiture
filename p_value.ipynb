{
 "cells": [
  {
   "cell_type": "code",
   "execution_count": 3,
   "metadata": {},
   "outputs": [
    {
     "data": {
      "text/plain": [
       "['longueur',\n",
       " 'largeur',\n",
       " 'poids_vehicule',\n",
       " 'taux_compression',\n",
       " 'carburant_essence',\n",
       " 'emplacement_moteur_arrière',\n",
       " 'type_moteur_l',\n",
       " 'nombre_cylindres_six',\n",
       " 'nombre_cylindres_three',\n",
       " 'marque_bmw',\n",
       " 'marque_dodge',\n",
       " 'marque_mitsubishi',\n",
       " 'marque_peugeot',\n",
       " 'marque_plymouth',\n",
       " 'marque_porcshce',\n",
       " 'marque_porsche',\n",
       " 'marque_subaru',\n",
       " 'marque_toyota',\n",
       " 'modèle_145e (sw)',\n",
       " 'modèle_304',\n",
       " 'modèle_320i',\n",
       " 'modèle_boxter',\n",
       " 'modèle_cressida',\n",
       " 'modèle_glc custom l',\n",
       " 'modèle_impala',\n",
       " 'modèle_montero',\n",
       " 'modèle_opel isuzu deluxe',\n",
       " 'modèle_panamera',\n",
       " 'modèle_regal sport coupe (turbo)',\n",
       " 'modèle_x5']"
      ]
     },
     "execution_count": 3,
     "metadata": {},
     "output_type": "execute_result"
    }
   ],
   "source": [
    "import pandas as pd\n",
    "import statsmodels.api as sm\n",
    "\n",
    "# Load the data into a pandas DataFrame\n",
    "data = pd.read_csv('prix_voiture.csv')\n",
    "\n",
    "# Convert categorical variables into dummy variables\n",
    "data = pd.get_dummies(data)\n",
    "\n",
    "# Define the response variable and the predictor variables\n",
    "response = 'prix'\n",
    "predictors = [col for col in data.columns if col != response]\n",
    "\n",
    "# Fit a linear regression model using all predictors\n",
    "model = sm.OLS(data[response], sm.add_constant(data[predictors])).fit()\n",
    "\n",
    "# Get the p-values for each predictor\n",
    "p_values = model.pvalues[1:]\n",
    "\n",
    "# Separate the numeric and categorical predictors\n",
    "numeric_predictors = [col for col in p_values.index if data[col].dtype == 'float64']\n",
    "categorical_predictors = [col for col in p_values.index if data[col].dtype == 'uint8']\n",
    "\n",
    "# Select the predictors with p-values below a certain threshold (e.g., 0.05)\n",
    "significant_numeric_predictors = [col for col in numeric_predictors if p_values[col] < 0.05]\n",
    "significant_categorical_predictors = [col for col in categorical_predictors if p_values[col] < 0.05]\n",
    "\n",
    "# Combine the significant predictors into a final list of predictors\n",
    "final_predictors = significant_numeric_predictors + significant_categorical_predictors\n",
    "\n",
    "# Fit a new model using only the final predictors\n",
    "final_model = sm.OLS(data[response], sm.add_constant(data[final_predictors])).fit()\n",
    "final_model\n",
    "final_predictors\n",
    "\n"
   ]
  }
 ],
 "metadata": {
  "kernelspec": {
   "display_name": "sklearn-env",
   "language": "python",
   "name": "python3"
  },
  "language_info": {
   "codemirror_mode": {
    "name": "ipython",
    "version": 3
   },
   "file_extension": ".py",
   "mimetype": "text/x-python",
   "name": "python",
   "nbconvert_exporter": "python",
   "pygments_lexer": "ipython3",
   "version": "3.11.3 (main, Apr 19 2023, 23:54:32) [GCC 11.2.0]"
  },
  "orig_nbformat": 4,
  "vscode": {
   "interpreter": {
    "hash": "28ff26c65758d064959116f1d9c8fbca26d00c18c6d798db5e6a86c21bd645e4"
   }
  }
 },
 "nbformat": 4,
 "nbformat_minor": 2
}
